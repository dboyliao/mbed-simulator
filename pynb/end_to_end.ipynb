{
 "cells": [
  {
   "cell_type": "code",
   "execution_count": 12,
   "metadata": {
    "ExecuteTime": {
     "end_time": "2018-01-16T15:47:44.222001Z",
     "start_time": "2018-01-16T15:47:44.218078Z"
    }
   },
   "outputs": [],
   "source": [
    "import tensorflow as tf\n",
    "from tensorflow.python.framework import graph_util\n",
    "from tensorflow.examples.tutorials.mnist.input_data import read_data_sets"
   ]
  },
  {
   "cell_type": "code",
   "execution_count": 2,
   "metadata": {
    "ExecuteTime": {
     "end_time": "2018-01-16T15:37:34.638888Z",
     "start_time": "2018-01-16T15:37:30.839571Z"
    }
   },
   "outputs": [
    {
     "name": "stdout",
     "output_type": "stream",
     "text": [
      "Successfully downloaded train-images-idx3-ubyte.gz 9912422 bytes.\n",
      "Extracting data/train-images-idx3-ubyte.gz\n",
      "Successfully downloaded train-labels-idx1-ubyte.gz 28881 bytes.\n",
      "Extracting data/train-labels-idx1-ubyte.gz\n",
      "Successfully downloaded t10k-images-idx3-ubyte.gz 1648877 bytes.\n",
      "Extracting data/t10k-images-idx3-ubyte.gz\n",
      "Successfully downloaded t10k-labels-idx1-ubyte.gz 4542 bytes.\n",
      "Extracting data/t10k-labels-idx1-ubyte.gz\n"
     ]
    }
   ],
   "source": [
    "mnist = read_data_sets('data', one_hot=True)"
   ]
  },
  {
   "cell_type": "code",
   "execution_count": 4,
   "metadata": {
    "ExecuteTime": {
     "end_time": "2018-01-16T15:40:48.837967Z",
     "start_time": "2018-01-16T15:40:48.829472Z"
    }
   },
   "outputs": [],
   "source": [
    "def weight_variable(shape, name):\n",
    "    \"\"\"weight_variable generates a weight variable of a given shape.\"\"\"\n",
    "    initial = tf.truncated_normal(shape, stddev=0.1)\n",
    "    return tf.Variable(initial, name)\n",
    "\n",
    "\n",
    "def bias_variable(shape, name):\n",
    "    \"\"\"bias_variable generates a bias variable of a given shape.\"\"\"\n",
    "    initial = tf.constant(0.1, shape=shape)\n",
    "    return tf.Variable(initial, name)"
   ]
  },
  {
   "cell_type": "code",
   "execution_count": 22,
   "metadata": {
    "ExecuteTime": {
     "end_time": "2018-01-16T15:56:26.681775Z",
     "start_time": "2018-01-16T15:56:26.428271Z"
    }
   },
   "outputs": [],
   "source": [
    "graph = tf.Graph()\n",
    "\n",
    "with graph.as_default():\n",
    "    x = tf.placeholder(tf.float32, [None, 784], name=\"x\")\n",
    "    y = tf.placeholder(tf.float32, [None, 10], name=\"y\")\n",
    "\n",
    "    with tf.name_scope(\"Layer1\"):\n",
    "        W_fc1 = weight_variable([784, 128], name='W_fc1')\n",
    "        b_fc1 = bias_variable([128], name='b_fc1')\n",
    "        a_fc1 = tf.add(tf.matmul(x, W_fc1), b_fc1, name=\"zscore\")\n",
    "        h_fc1 = tf.nn.relu(a_fc1)\n",
    "    with tf.name_scope(\"Layer2\"):\n",
    "        W_fc2 = weight_variable([128, 64], name='W_fc2')\n",
    "        b_fc2 = bias_variable([64], name='b_fc2')\n",
    "        a_fc2 = tf.add(tf.matmul(h_fc1, W_fc2), b_fc2, name=\"zscore\")\n",
    "        h_fc2 = tf.nn.relu(a_fc2)\n",
    "    with tf.name_scope(\"OuputLayer\"):\n",
    "        W_fc3 = weight_variable([64, 10], name='W_fc3')\n",
    "        b_fc3 = bias_variable([10], name='b_fc3')\n",
    "        logits = tf.add(tf.matmul(h_fc2, W_fc3), b_fc3, name=\"logits\")\n",
    "    y_pred = tf.argmax(logits, 1, name='y_pred')\n",
    "        \n",
    "    with tf.name_scope(\"Loss\"):\n",
    "        cross_entropy = tf.nn.softmax_cross_entropy_with_logits(labels=y, \n",
    "                                                                logits=logits)\n",
    "        loss = tf.reduce_mean(cross_entropy, name=\"cross_entropy_loss\")\n",
    "    \n",
    "    train_step = tf.train.AdamOptimizer(1e-4).minimize(loss, name=\"train_step\")\n",
    "    \n",
    "    with tf.name_scope(\"Prediction\"): \n",
    "        correct_prediction = tf.equal(y_pred, \n",
    "                                      tf.argmax(y, 1))\n",
    "        accuracy = tf.reduce_mean(tf.cast(correct_prediction, tf.float32), name=\"accuracy\")"
   ]
  },
  {
   "cell_type": "code",
   "execution_count": 26,
   "metadata": {
    "ExecuteTime": {
     "end_time": "2018-01-16T15:58:57.719966Z",
     "start_time": "2018-01-16T15:58:20.124197Z"
    }
   },
   "outputs": [
    {
     "name": "stdout",
     "output_type": "stream",
     "text": [
      "step 1000, training accuracy 0.92\n",
      "step 2000, training accuracy 0.94\n",
      "step 3000, training accuracy 0.86\n",
      "step 4000, training accuracy 0.96\n",
      "step 5000, training accuracy 1\n",
      "step 6000, training accuracy 0.98\n",
      "step 7000, training accuracy 0.92\n",
      "step 8000, training accuracy 0.98\n",
      "step 9000, training accuracy 0.94\n",
      "step 10000, training accuracy 0.96\n",
      "step 11000, training accuracy 0.96\n",
      "step 12000, training accuracy 0.94\n",
      "step 13000, training accuracy 0.96\n",
      "step 14000, training accuracy 1\n",
      "step 15000, training accuracy 1\n",
      "step 16000, training accuracy 1\n",
      "step 17000, training accuracy 0.98\n",
      "step 18000, training accuracy 0.98\n",
      "step 19000, training accuracy 1\n",
      "step 20000, training accuracy 1\n",
      "test accuracy 0.9715\n",
      "INFO:tensorflow:Froze 6 variables.\n",
      "Converted 6 variables to const ops.\n",
      "written graph to: ./my-model/simple_mnist.pb\n"
     ]
    }
   ],
   "source": [
    "with tf.Session(graph=graph) as sess:\n",
    "    sess.run(tf.global_variables_initializer())\n",
    "    saver = tf.train.Saver()\n",
    "\n",
    "    for i in range(1, 20001):\n",
    "        images, labels = mnist.train.next_batch(50)\n",
    "        train_step.run(feed_dict={x: images, y: labels})\n",
    "        if i % 1000 == 0:\n",
    "            train_accuracy = accuracy.eval(feed_dict={x: images, y: labels})\n",
    "            print('step %d, training accuracy %g' % (i, train_accuracy))\n",
    "    print('test accuracy %g' % accuracy.eval(feed_dict={x: mnist.test.images, y: mnist.test.labels}))\n",
    "    saver.save(sess, \"./my-model/model.ckpt\")\n",
    "    out_nodes = [y_pred.op.name]\n",
    "    sub_graph_def = graph_util.convert_variables_to_constants(sess, sess.graph_def, out_nodes)\n",
    "    graph_path = tf.train.write_graph(sub_graph_def, \n",
    "                                      \"./my-model\", \"simple_mnist.pb\", \n",
    "                                      as_text=False)\n",
    "    print('written graph to: %s' % graph_path)"
   ]
  },
  {
   "cell_type": "code",
   "execution_count": 25,
   "metadata": {
    "ExecuteTime": {
     "end_time": "2018-01-16T15:57:21.687797Z",
     "start_time": "2018-01-16T15:57:21.684151Z"
    }
   },
   "outputs": [
    {
     "name": "stdout",
     "output_type": "stream",
     "text": [
      "['y_pred']\n"
     ]
    }
   ],
   "source": [
    "print(out_nodes)"
   ]
  },
  {
   "cell_type": "code",
   "execution_count": 27,
   "metadata": {
    "ExecuteTime": {
     "end_time": "2018-01-16T15:59:29.505012Z",
     "start_time": "2018-01-16T15:59:26.415979Z"
    }
   },
   "outputs": [
    {
     "name": "stdout",
     "output_type": "stream",
     "text": [
      "/usr/local/Cellar/python3/3.6.3/Frameworks/Python.framework/Versions/3.6/lib/python3.6/importlib/_bootstrap.py:219: RuntimeWarning: compiletime version 3.5 of module 'tensorflow.python.framework.fast_tensor_util' does not match runtime version 3.6\r\n",
      "  return f(*args, **kwds)\r\n"
     ]
    }
   ],
   "source": [
    "!python3 quantize_graph.py --input my-model/simple_mnist.pb \\\n",
    "  --output_node_names='y_pred' --output=my-model/quant_mnist.pb --mode=eightbit"
   ]
  },
  {
   "cell_type": "code",
   "execution_count": null,
   "metadata": {},
   "outputs": [],
   "source": []
  }
 ],
 "metadata": {
  "kernelspec": {
   "display_name": "Python 3",
   "language": "python",
   "name": "python3"
  },
  "language_info": {
   "codemirror_mode": {
    "name": "ipython",
    "version": 3
   },
   "file_extension": ".py",
   "mimetype": "text/x-python",
   "name": "python",
   "nbconvert_exporter": "python",
   "pygments_lexer": "ipython3",
   "version": "3.6.3"
  },
  "toc": {
   "nav_menu": {},
   "number_sections": true,
   "sideBar": true,
   "skip_h1_title": false,
   "toc_cell": false,
   "toc_position": {},
   "toc_section_display": "block",
   "toc_window_display": false
  }
 },
 "nbformat": 4,
 "nbformat_minor": 2
}
